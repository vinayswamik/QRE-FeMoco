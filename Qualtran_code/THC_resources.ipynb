{
 "cells": [
  {
   "cell_type": "markdown",
   "metadata": {},
   "source": [
    "# Tensor-Hyper Contraction with Qubitization-QPE - Resource Estimates"
   ]
  },
  {
   "cell_type": "code",
   "execution_count": 2,
   "metadata": {},
   "outputs": [],
   "source": [
    "from openfermion.resource_estimates.utils import QI\n",
    "import numpy as np\n",
    "from qualtran.bloqs.chemistry.thc.prepare_test import build_random_test_integrals\n",
    "from qualtran.bloqs.chemistry.thc.walk_operator import get_walk_operator_for_thc_ham\n",
    "from qualtran.bloqs.phase_estimation import LPResourceState, QubitizationQPE\n",
    "import pandas as pd\n",
    "import matplotlib.pyplot as plt\n"
   ]
  },
  {
   "cell_type": "markdown",
   "metadata": {},
   "source": [
    "## Utilities"
   ]
  },
  {
   "cell_type": "code",
   "execution_count": 3,
   "metadata": {},
   "outputs": [],
   "source": [
    "\n",
    "def convert_to_num_label(num):\n",
    "    if num >= 1000000000000:\n",
    "        return f\"{num / 1000000000000:.1f} Trillion\"\n",
    "    elif num >= 1000000000:\n",
    "        return f\"{num / 1000000000:.1f} Billion\"\n",
    "    elif num >= 1000000:\n",
    "        return f\"{num / 1000000:.1f} Million\"\n",
    "    elif num >= 1000:\n",
    "        return f\"{num / 1000:.1f} K\"\n",
    "    \n",
    "\n",
    "def convert_to_int(s):\n",
    "    # Check if the last character is 'k'\n",
    "    if s[-1].lower() == 'k':\n",
    "        number = float(s[:-1])\n",
    "        return int(number * 1000)\n",
    "    elif s[-1].lower() == 'm':\n",
    "       number = float(s[:-1])\n",
    "       return int(number * 1000000)\n",
    "    elif s[-1].lower() == 'g':\n",
    "        number = float (s[:-1])\n",
    "        return int(number * 1000000000)\n",
    "    elif s[-1].lower() == 't':\n",
    "        number = float (s[:-1])\n",
    "        return int(number * 1000000000000)\n",
    "    else:\n",
    "        return int(s)\n",
    "    \n",
    "def convert_nanoseconds(nanoseconds):\n",
    "    time_units = [\n",
    "        (\"centuries\", 3153600000),\n",
    "        (\"decades\", 315360000),\n",
    "        (\"years\", 31536000),\n",
    "        (\"days\", 86400),\n",
    "        (\"hours\", 3600),\n",
    "        (\"mins\", 60),\n",
    "        (\"secs\", 1),\n",
    "        (\"millisecs\", 1e-3),\n",
    "        (\"microsecs\", 1e-6),\n",
    "        (\"nanosecs\", 1e-9)\n",
    "    ]\n",
    "    seconds = nanoseconds * 1e-9  \n",
    "    for unit, value in time_units:\n",
    "        if seconds >= value:\n",
    "            converted_value = seconds / value\n",
    "            return f\"{converted_value:.0f} {unit}\"\n",
    "    \n",
    "    return f\"{nanoseconds} nanosecs\""
   ]
  },
  {
   "cell_type": "markdown",
   "metadata": {},
   "source": [
    "## Tensor-Hyper Contraction with Qubitzation-QPE code"
   ]
  },
  {
   "cell_type": "code",
   "execution_count": 9,
   "metadata": {},
   "outputs": [],
   "source": [
    "num_spinorb = 152\n",
    "num_bits_state_prep = 10\n",
    "num_bits_rot = 20\n",
    "thc_dim = 450\n",
    "num_spat = num_spinorb // 2\n",
    "qroam_blocking_factor = np.power(2, QI(thc_dim + num_spat)[0])\n",
    "t_l, eta, zeta = build_random_test_integrals(thc_dim, num_spinorb // 2, seed=7)\n",
    "walk = get_walk_operator_for_thc_ham(\n",
    "    t_l,\n",
    "    eta,\n",
    "    zeta,\n",
    "    num_bits_state_prep=num_bits_state_prep,\n",
    "    num_bits_theta=num_bits_rot,\n",
    "    kr1=qroam_blocking_factor,\n",
    "    kr2=qroam_blocking_factor,\n",
    ")\n",
    "\n",
    "algo_eps = 0.0016\n",
    "qpe_eps = algo_eps / (walk.block_encoding.alpha * 2**0.5)\n",
    "qubitization_qpe_chem_thc = QubitizationQPE(\n",
    "    walk, LPResourceState.from_standard_deviation_eps(qpe_eps)\n",
    ")\n",
    "counts = qubitization_qpe_chem_thc.t_complexity()"
   ]
  },
  {
   "cell_type": "markdown",
   "metadata": {},
   "source": [
    "## Resource Estimates"
   ]
  },
  {
   "cell_type": "code",
   "execution_count": 10,
   "metadata": {},
   "outputs": [
    {
     "name": "stdout",
     "output_type": "stream",
     "text": [
      "{'Orbitals': 76, 'Logical Qubits': ['226'], 'T-Gates': ['178160.5 Trillion'], 'Logical Gates': ['178164.9 Trillion'], 'Runtime': ['525 years']}\n"
     ]
    }
   ],
   "source": [
    "\n",
    "def get_bloq_logical_counts(bloq):\n",
    "    from qsharp.estimator import LogicalCounts\n",
    "    from qualtran._infra.gate_with_registers import get_named_qubits\n",
    "\n",
    "    num_qubits = bloq.signature.n_qubits()\n",
    "    complexity = bloq.t_complexity()\n",
    "    \n",
    "    return LogicalCounts({\n",
    "        \"numQubits\": num_qubits,\n",
    "        \"tCount\": complexity.t,\n",
    "        \"rotationCount\": complexity.rotations,\n",
    "        \"rotationDepth\": complexity.rotations\n",
    "    })\n",
    "\n",
    "estimates = get_bloq_logical_counts(qubitization_qpe_chem_thc).estimate([\n",
    "    {\"errorBudget\": 0.01,\n",
    "    \"qubitParams\": {\"name\": \"qubit_maj_ns_e6\"},\n",
    "    \"qecScheme\": {\"name\": \"floquet_code\"}}\n",
    "    # {\"qubitParams\": {\"name\": \"qubit_gate_ns_e4\"}},\n",
    "    # {\"qubitParams\": {\"name\": \"qubit_maj_ns_e4\"}, \"surfaceCode\": {\"name\": \"floquet_code\"}},\n",
    "])\n",
    "\n",
    "\n",
    "total_gates = counts.t + counts.rotations\n",
    "\n",
    "data = {\n",
    "    \"Orbitals\": num_spinorb // 2,\n",
    "    \"Logical Qubits\": [estimates['physicalCountsFormatted']['logicalCountsNumQubits']],\n",
    "    \"T-Gates\":  [convert_to_num_label(counts.t)],\n",
    "    \"Logical Gates\": [convert_to_num_label(total_gates)],\n",
    "    \"Runtime\":[estimates['physicalCountsFormatted']['runtime']]\n",
    "}\n",
    "\n",
    "print(data)"
   ]
  },
  {
   "cell_type": "markdown",
   "metadata": {},
   "source": [
    "## Results"
   ]
  },
  {
   "cell_type": "code",
   "execution_count": 11,
   "metadata": {},
   "outputs": [
    {
     "data": {
      "image/png": "[encoded data removed]",
      "text/plain": [
       "<Figure size 800x100 with 1 Axes>"
      ]
     },
     "metadata": {},
     "output_type": "display_data"
    }
   ],
   "source": [
    "algorithms = [\"THC-Qubitization-QPE\"]\n",
    "df = pd.DataFrame(data, index=algorithms)\n",
    "\n",
    "fig, ax = plt.subplots(figsize=(8, 1))\n",
    "ax.axis('off')\n",
    "\n",
    "table = ax.table(\n",
    "    cellText=df.values,\n",
    "    rowLabels=df.index,\n",
    "    colLabels=df.columns,\n",
    "    cellLoc='center',\n",
    "    loc='center',\n",
    "    bbox=[0, 0, 1, 1], \n",
    ")\n",
    "\n",
    "table.auto_set_font_size(False)\n",
    "table.set_fontsize(12)\n",
    "table.auto_set_column_width(col=list(range(len(df.columns) + 1)))\n",
    "for (row, col), cell in table.get_celld().items():\n",
    "    cell.set_height(0.3) \n",
    "\n",
    "plt.subplots_adjust(left=0.05, right=0.95, top=0.8, bottom=0.1)\n",
    "\n",
    "plt.title(\"Resource Estimates for Femoco Molecule\", pad=20)\n",
    "plt.show()\n"
   ]
  },
  {
   "cell_type": "markdown",
   "metadata": {},
   "source": [
    "## Above Results are wrong. Tensor-Hyper Contraction should give better results than Double Factorization. Needs Further Implementation."
   ]
  }
 ],
 "metadata": {
  "kernelspec": {
   "display_name": "env",
   "language": "python",
   "name": "python3"
  },
  "language_info": {
   "codemirror_mode": {
    "name": "ipython",
    "version": 3
   },
   "file_extension": ".py",
   "mimetype": "text/x-python",
   "name": "python",
   "nbconvert_exporter": "python",
   "pygments_lexer": "ipython3",
   "version": "3.13.2"
  }
 },
 "nbformat": 4,
 "nbformat_minor": 2
}
