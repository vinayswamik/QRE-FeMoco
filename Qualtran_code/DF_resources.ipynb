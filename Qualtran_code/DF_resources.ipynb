{
 "cells": [
  {
   "cell_type": "markdown",
   "metadata": {},
   "source": [
    "# Double Factorization with Qubitization-QPE - Resource Estimates"
   ]
  },
  {
   "cell_type": "code",
   "execution_count": 1,
   "metadata": {},
   "outputs": [],
   "source": [
    "import h5py\n",
    "import pandas as pd\n",
    "from qualtran.bloqs.phase_estimation import LPResourceState\n",
    "import matplotlib.pyplot as plt\n",
    "from qualtran.resource_counting import get_cost_value, query_costs, QubitCount\n",
    "from qualtran.drawing import show_bloq\n",
    "from qualtran.cirq_interop.t_complexity_protocol import TComplexity\n",
    "from qualtran.resource_counting import QECGatesCost,GateCounts, query_costs\n"
   ]
  },
  {
   "cell_type": "markdown",
   "metadata": {},
   "source": [
    "## Utilities"
   ]
  },
  {
   "cell_type": "code",
   "execution_count": 2,
   "metadata": {},
   "outputs": [],
   "source": [
    "def convert_to_num_label(num):\n",
    "    if num >= 1000000000000:\n",
    "        return f\"{num / 1000000000000:.1f} Trillion\"\n",
    "    elif num >= 1000000000:\n",
    "        return f\"{num / 1000000000:.1f} Billion\"\n",
    "    elif num >= 1000000:\n",
    "        return f\"{num / 1000000:.1f} Million\"\n",
    "    elif num >= 1000:\n",
    "        return f\"{num / 1000:.1f} K\"\n",
    "    \n",
    "\n",
    "def convert_to_int(s):\n",
    "    # Check if the last character is 'k'\n",
    "    if s[-1].lower() == 'k':\n",
    "        number = float(s[:-1])\n",
    "        return int(number * 1000)\n",
    "    elif s[-1].lower() == 'm':\n",
    "       number = float(s[:-1])\n",
    "       return int(number * 1000000)\n",
    "    elif s[-1].lower() == 'g':\n",
    "        number = float (s[:-1])\n",
    "        return int(number * 1000000000)\n",
    "    elif s[-1].lower() == 't':\n",
    "        number = float (s[:-1])\n",
    "        return int(number * 1000000000000)\n",
    "    else:\n",
    "        return int(s)\n",
    "    \n",
    "def convert_nanoseconds(nanoseconds):\n",
    "    time_units = [\n",
    "        (\"centuries\", 3153600000),\n",
    "        (\"decades\", 315360000),\n",
    "        (\"years\", 31536000),\n",
    "        (\"days\", 86400),\n",
    "        (\"hours\", 3600),\n",
    "        (\"mins\", 60),\n",
    "        (\"secs\", 1),\n",
    "        (\"millisecs\", 1e-3),\n",
    "        (\"microsecs\", 1e-6),\n",
    "        (\"nanosecs\", 1e-9)\n",
    "    ]\n",
    "    seconds = nanoseconds * 1e-9  \n",
    "    for unit, value in time_units:\n",
    "        if seconds >= value:\n",
    "            converted_value = seconds / value\n",
    "            return f\"{converted_value:.0f} {unit}\"\n",
    "    \n",
    "    return f\"{nanoseconds} nanosecs\""
   ]
  },
  {
   "cell_type": "markdown",
   "metadata": {},
   "source": [
    "## Double Factorization with Qubitization-QPE code"
   ]
  },
  {
   "cell_type": "code",
   "execution_count": null,
   "metadata": {},
   "outputs": [],
   "source": [
    "import qualtran.bloqs.chemistry.df.double_factorization as dfmod\n",
    "from qualtran.bloqs.reflections.reflection_using_prepare import ReflectionUsingPrepare\n",
    "\n",
    "def _reflect(self):\n",
    "    return ReflectionUsingPrepare(self.signal_state, global_phase=-1)\n",
    "\n",
    "for cls_name in (\"DoubleFactorizationOneBody\", \"DoubleFactorizationBlockEncoding\"):\n",
    "    cls = getattr(dfmod, cls_name, None)\n",
    "    if cls is not None:\n",
    "        setattr(cls, \"reflect\", property(_reflect))\n"
   ]
  },
  {
   "cell_type": "code",
   "execution_count": null,
   "metadata": {},
   "outputs": [],
   "source": [
    "from qualtran.bloqs.chemistry.df.double_factorization import (\n",
    "    DoubleFactorizationBlockEncoding,\n",
    ")\n",
    "from qualtran.bloqs.phase_estimation.qubitization_qpe import QubitizationQPE\n",
    "from qualtran.resource_counting import BloqCountDictT, SympySymbolAllocator\n",
    "from qualtran import CtrlSpec\n",
    "\n",
    "class Mod_QubitizationQPE(QubitizationQPE):\n",
    "    def build_call_graph(self, ssa: 'SympySymbolAllocator') -> 'BloqCountDictT':\n",
    "        M = 2**self.m_bits\n",
    "        return {\n",
    "            self.ctrl_state_prep: 1,\n",
    "            self.walk: 1,\n",
    "            self.walk.reflect.controlled(ctrl_spec=CtrlSpec(cvs=0)): 2 * (self.m_bits - 1),\n",
    "            self.walk: M - 2 + 1,\n",
    "            self.qft_inv: 1,\n",
    "        }"
   ]
  },
  {
   "cell_type": "code",
   "execution_count": 5,
   "metadata": {},
   "outputs": [],
   "source": [
    "#################### DF-Qubitization-QPE #######################\n",
    "\n",
    "num_spin_orb = 76 * 2\n",
    "num_bits_state_prep = 26\n",
    "num_bits_rot = 23\n",
    "num_aux = 786\n",
    "num_eig = num_aux * (num_spin_orb // 2)\n",
    "ctrl_state_prep = LPResourceState(num_bits_rot)\n",
    "df_bloq = DoubleFactorizationBlockEncoding(num_spin_orb, num_aux, num_eig, num_bits_state_prep=num_bits_state_prep)\n",
    "df_bloq_Qubitization_QPE = Mod_QubitizationQPE(df_bloq,ctrl_state_prep)\n",
    "counts = df_bloq_Qubitization_QPE.t_complexity()\n",
    "\n"
   ]
  },
  {
   "cell_type": "markdown",
   "metadata": {},
   "source": [
    "## Resource Estimates"
   ]
  },
  {
   "cell_type": "code",
   "execution_count": 6,
   "metadata": {},
   "outputs": [
    {
     "data": {
      "application/javascript": "// Copyright (c) Microsoft Corporation.\n// Licensed under the MIT License.\n\n// This file provides CodeMirror syntax highlighting for Q# magic cells\n// in classic Jupyter Notebooks. It does nothing in other (Jupyter Notebook 7,\n// VS Code, Azure Notebooks, etc.) environments.\n\n// Detect the prerequisites and do nothing if they don't exist.\nif (window.require && window.CodeMirror && window.Jupyter) {\n  // The simple mode plugin for CodeMirror is not loaded by default, so require it.\n  window.require([\"codemirror/addon/mode/simple\"], function defineMode() {\n    let rules = [\n      {\n        token: \"comment\",\n        regex: /(\\/\\/).*/,\n        beginWord: false,\n      },\n      {\n        token: \"string\",\n        regex: String.raw`^\\\"(?:[^\\\"\\\\]|\\\\[\\s\\S])*(?:\\\"|$)`,\n        beginWord: false,\n      },\n      {\n        token: \"keyword\",\n        regex: String.raw`(namespace|open|as|operation|function|body|adjoint|newtype|controlled|internal)\\b`,\n        beginWord: true,\n      },\n      {\n        token: \"keyword\",\n        regex: String.raw`(if|elif|else|repeat|until|fixup|for|in|return|fail|within|apply)\\b`,\n        beginWord: true,\n      },\n      {\n        token: \"keyword\",\n        regex: String.raw`(Adjoint|Controlled|Adj|Ctl|is|self|auto|distribute|invert|intrinsic)\\b`,\n        beginWord: true,\n      },\n      {\n        token: \"keyword\",\n        regex: String.raw`(let|set|use|borrow|mutable)\\b`,\n        beginWord: true,\n      },\n      {\n        token: \"operatorKeyword\",\n        regex: String.raw`(not|and|or)\\b|(w/)`,\n        beginWord: true,\n      },\n      {\n        token: \"operatorKeyword\",\n        regex: String.raw`(=)|(!)|(<)|(>)|(\\+)|(-)|(\\*)|(/)|(\\^)|(%)|(\\|)|(&&&)|(~~~)|(\\.\\.\\.)|(\\.\\.)|(\\?)`,\n        beginWord: false,\n      },\n      {\n        token: \"meta\",\n        regex: String.raw`(Int|BigInt|Double|Bool|Qubit|Pauli|Result|Range|String|Unit)\\b`,\n        beginWord: true,\n      },\n      {\n        token: \"atom\",\n        regex: String.raw`(true|false|Pauli(I|X|Y|Z)|One|Zero)\\b`,\n        beginWord: true,\n      },\n    ];\n    let simpleRules = [];\n    for (let rule of rules) {\n      simpleRules.push({\n        token: rule.token,\n        regex: new RegExp(rule.regex, \"g\"),\n        sol: rule.beginWord,\n      });\n      if (rule.beginWord) {\n        // Need an additional rule due to the fact that CodeMirror simple mode doesn't work with ^ token\n        simpleRules.push({\n          token: rule.token,\n          regex: new RegExp(String.raw`\\W` + rule.regex, \"g\"),\n          sol: false,\n        });\n      }\n    }\n\n    // Register the mode defined above with CodeMirror\n    window.CodeMirror.defineSimpleMode(\"qsharp\", { start: simpleRules });\n    window.CodeMirror.defineMIME(\"text/x-qsharp\", \"qsharp\");\n\n    // Tell Jupyter to associate %%qsharp magic cells with the qsharp mode\n    window.Jupyter.CodeCell.options_default.highlight_modes[\"qsharp\"] = {\n      reg: [/^%%qsharp/],\n    };\n\n    // Force re-highlighting of all cells the first time this code runs\n    for (const cell of window.Jupyter.notebook.get_cells()) {\n      cell.auto_highlight();\n    }\n  });\n}\n",
      "text/plain": []
     },
     "metadata": {},
     "output_type": "display_data"
    },
    {
     "name": "stdout",
     "output_type": "stream",
     "text": [
      "{'Orbitals': 76, 'Logical Qubits': ['2.05k'], 'T-Gates': ['2.1 Trillion'], 'Logical Gates': ['2.2 Trillion'], 'Runtime': ['67 days']}\n"
     ]
    }
   ],
   "source": [
    "### From Qualtron Documentation    \n",
    "def get_bloq_logical_counts(bloq):\n",
    "    from qsharp.estimator import LogicalCounts\n",
    "    from qualtran._infra.gate_with_registers import get_named_qubits\n",
    "\n",
    "    num_qubits = bloq.signature.n_qubits()\n",
    "    complexity = bloq.t_complexity()\n",
    "    \n",
    "    return LogicalCounts({\n",
    "        \"numQubits\": num_qubits,\n",
    "        \"tCount\": complexity.t,\n",
    "        \"rotationCount\": complexity.rotations,\n",
    "    })\n",
    "    \n",
    "\n",
    "\n",
    "estimates = get_bloq_logical_counts(df_bloq_Qubitization_QPE).estimate([\n",
    "    {\"errorBudget\": 0.01,\n",
    "    \"qubitParams\": {\"name\": \"qubit_maj_ns_e6\"},\n",
    "    \"qecScheme\": {\"name\": \"floquet_code\"}}\n",
    "    # {\"qubitParams\": {\"name\": \"qubit_gate_ns_e4\"}},\n",
    "    # {\"qubitParams\": {\"name\": \"qubit_maj_ns_e4\"}, \"surfaceCode\": {\"name\": \"floquet_code\"}},\n",
    "])\n",
    "\n",
    "\n",
    "total_gates = counts.t + counts.clifford + counts.rotations\n",
    "\n",
    "data = {\n",
    "    \"Orbitals\": num_spin_orb//2,\n",
    "    \"Logical Qubits\": [estimates['physicalCountsFormatted']['logicalCountsNumQubits']],\n",
    "    \"T-Gates\":  [convert_to_num_label(counts.t)],\n",
    "    \"Logical Gates\": [convert_to_num_label(total_gates)],\n",
    "    \"Runtime\":[estimates['physicalCountsFormatted']['runtime']]\n",
    "}\n",
    "\n",
    "print(data)\n"
   ]
  },
  {
   "cell_type": "markdown",
   "metadata": {},
   "source": [
    "## Results"
   ]
  },
  {
   "cell_type": "code",
   "execution_count": 10,
   "metadata": {},
   "outputs": [
    {
     "data": {
      "image/png": "[encoded data removed]",
      "text/plain": [
       "<Figure size 800x200 with 1 Axes>"
      ]
     },
     "metadata": {},
     "output_type": "display_data"
    }
   ],
   "source": [
    "\n",
    "algorithms = [\"DF-Qubitization-QPE\"]\n",
    "df = pd.DataFrame(data, index=algorithms)\n",
    "fig, ax = plt.subplots(figsize=(8, 2)) \n",
    "ax.axis('off')\n",
    "table = ax.table(cellText=df.values, colLabels=df.columns, rowLabels=df.index, cellLoc='center', loc='center')\n",
    "plt.title(\"Resource Estimates for Femoco Molecule\")\n",
    "table.auto_set_font_size(False)\n",
    "plt.show()\n"
   ]
  }
 ],
 "metadata": {
  "kernelspec": {
   "display_name": "env",
   "language": "python",
   "name": "python3"
  },
  "language_info": {
   "codemirror_mode": {
    "name": "ipython",
    "version": 3
   },
   "file_extension": ".py",
   "mimetype": "text/x-python",
   "name": "python",
   "nbconvert_exporter": "python",
   "pygments_lexer": "ipython3",
   "version": "3.13.2"
  }
 },
 "nbformat": 4,
 "nbformat_minor": 2
}
