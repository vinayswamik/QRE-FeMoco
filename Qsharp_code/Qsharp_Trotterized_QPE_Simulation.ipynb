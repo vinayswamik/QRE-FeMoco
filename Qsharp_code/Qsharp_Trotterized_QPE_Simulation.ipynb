{
  "cells": [
    {
      "cell_type": "code",
      "execution_count": null,
      "metadata": {
        "colab": {
          "base_uri": "https://localhost:8080/"
        },
        "id": "xznWnfWzd5iq",
        "outputId": "683c34b3-8cde-487a-e4ca-0b3795914674"
      },
      "outputs": [
        {
          "ename": "",
          "evalue": "",
          "output_type": "error",
          "traceback": [
            "\u001b[1;31mRunning cells with 'Python 3.13.2' requires the ipykernel package.\n",
            "\u001b[1;31mRun the following command to install 'ipykernel' into the Python environment. \n",
            "\u001b[1;31mCommand: '/opt/homebrew/bin/python3 -m pip install ipykernel -U --user --force-reinstall'"
          ]
        }
      ],
      "source": [
        "!pip install qsharp --quiet\n",
        "!pip install pyscf --quiet\n",
        "!pip install openfermion --quiet\n",
        "!pip install openfermionpyscf --quiet\n",
        "!pip install cirq --quiet"
      ]
    },
    {
      "cell_type": "code",
      "execution_count": 1,
      "metadata": {
        "id": "yPXeaLUOzpG5"
      },
      "outputs": [
        {
          "data": {
            "application/javascript": "// Copyright (c) Microsoft Corporation.\n// Licensed under the MIT License.\n\n// This file provides CodeMirror syntax highlighting for Q# magic cells\n// in classic Jupyter Notebooks. It does nothing in other (Jupyter Notebook 7,\n// VS Code, Azure Notebooks, etc.) environments.\n\n// Detect the prerequisites and do nothing if they don't exist.\nif (window.require && window.CodeMirror && window.Jupyter) {\n  // The simple mode plugin for CodeMirror is not loaded by default, so require it.\n  window.require([\"codemirror/addon/mode/simple\"], function defineMode() {\n    let rules = [\n      {\n        token: \"comment\",\n        regex: /(\\/\\/).*/,\n        beginWord: false,\n      },\n      {\n        token: \"string\",\n        regex: String.raw`^\\\"(?:[^\\\"\\\\]|\\\\[\\s\\S])*(?:\\\"|$)`,\n        beginWord: false,\n      },\n      {\n        token: \"keyword\",\n        regex: String.raw`(namespace|open|as|operation|function|body|adjoint|newtype|controlled|internal)\\b`,\n        beginWord: true,\n      },\n      {\n        token: \"keyword\",\n        regex: String.raw`(if|elif|else|repeat|until|fixup|for|in|return|fail|within|apply)\\b`,\n        beginWord: true,\n      },\n      {\n        token: \"keyword\",\n        regex: String.raw`(Adjoint|Controlled|Adj|Ctl|is|self|auto|distribute|invert|intrinsic)\\b`,\n        beginWord: true,\n      },\n      {\n        token: \"keyword\",\n        regex: String.raw`(let|set|use|borrow|mutable)\\b`,\n        beginWord: true,\n      },\n      {\n        token: \"operatorKeyword\",\n        regex: String.raw`(not|and|or)\\b|(w/)`,\n        beginWord: true,\n      },\n      {\n        token: \"operatorKeyword\",\n        regex: String.raw`(=)|(!)|(<)|(>)|(\\+)|(-)|(\\*)|(/)|(\\^)|(%)|(\\|)|(&&&)|(~~~)|(\\.\\.\\.)|(\\.\\.)|(\\?)`,\n        beginWord: false,\n      },\n      {\n        token: \"meta\",\n        regex: String.raw`(Int|BigInt|Double|Bool|Qubit|Pauli|Result|Range|String|Unit)\\b`,\n        beginWord: true,\n      },\n      {\n        token: \"atom\",\n        regex: String.raw`(true|false|Pauli(I|X|Y|Z)|One|Zero)\\b`,\n        beginWord: true,\n      },\n    ];\n    let simpleRules = [];\n    for (let rule of rules) {\n      simpleRules.push({\n        token: rule.token,\n        regex: new RegExp(rule.regex, \"g\"),\n        sol: rule.beginWord,\n      });\n      if (rule.beginWord) {\n        // Need an additional rule due to the fact that CodeMirror simple mode doesn't work with ^ token\n        simpleRules.push({\n          token: rule.token,\n          regex: new RegExp(String.raw`\\W` + rule.regex, \"g\"),\n          sol: false,\n        });\n      }\n    }\n\n    // Register the mode defined above with CodeMirror\n    window.CodeMirror.defineSimpleMode(\"qsharp\", { start: simpleRules });\n    window.CodeMirror.defineMIME(\"text/x-qsharp\", \"qsharp\");\n\n    // Tell Jupyter to associate %%qsharp magic cells with the qsharp mode\n    window.Jupyter.CodeCell.options_default.highlight_modes[\"qsharp\"] = {\n      reg: [/^%%qsharp/],\n    };\n\n    // Force re-highlighting of all cells the first time this code runs\n    for (const cell of window.Jupyter.notebook.get_cells()) {\n      cell.auto_highlight();\n    }\n  });\n}\n",
            "text/plain": []
          },
          "metadata": {},
          "output_type": "display_data"
        }
      ],
      "source": [
        "import numpy as np\n",
        "import qsharp\n",
        "import matplotlib.pyplot as plt\n",
        "from scipy.sparse import linalg as lg\n",
        "import cirq\n",
        "from openfermion import *\n",
        "from openfermionpyscf import *\n",
        "from math import prod\n",
        "import math\n",
        "from pyscf import scf, gto\n",
        "from pyscf.tools import fcidump"
      ]
    },
    {
      "cell_type": "markdown",
      "metadata": {
        "id": "CZKG7xw3eJ_A"
      },
      "source": [
        "## Generate Molecular hamiltonian\n"
      ]
    },
    {
      "cell_type": "code",
      "execution_count": null,
      "metadata": {
        "colab": {
          "base_uri": "https://localhost:8080/"
        },
        "id": "pRuiDZK8IzfU",
        "outputId": "677fb8d1-a3be-4abc-bcb0-57dc1d82a6ef"
      },
      "outputs": [
        {
          "name": "stdout",
          "output_type": "stream",
          "text": [
            "converged SCF energy = -5.43302050115388\n"
          ]
        }
      ],
      "source": [
        "# geometry = [('H', (0., 0., 0.)), ('H', (0., 0.,0.782))]\n",
        "geometry = [('He', (0., 0., 1.0)), ('He', (0., 0.,0.0))]\n",
        "# geometry = [('H',(-1.43082,0.00000,-0.88630)),('H',(1.43082,0.00000,-0.88630)), ('O',(0.00000, 0.00000,0.22157))]\n",
        "# geometry = [('Be',(0.00000,0.00000,0.00000))]\n",
        "\n",
        "\n",
        "basis = 'sto-3g' #'cc-pVDZ' #'sto-3g'  #6-31g\n",
        "charge = 0\n",
        "multiplicity = 1\n",
        "def set_mol():\n",
        "    mol = gto.M(atom=geometry)\n",
        "    mol.basis = basis\n",
        "    mol.charge = 0\n",
        "    mol.multiplicity = 1\n",
        "    mol.build()\n",
        "    return mol\n",
        "\n",
        "# Define main function\n",
        "mol = set_mol()\n",
        "rhf = scf.RHF(mol)\n",
        "energy = rhf.kernel()"
      ]
    },
    {
      "cell_type": "code",
      "execution_count": 3,
      "metadata": {
        "id": "8gXOh60a0MVV"
      },
      "outputs": [],
      "source": [
        "no_of_el = mol.nelectron\n",
        "hamiltonian_0 = generate_molecular_hamiltonian(\n",
        "    geometry=geometry,basis= basis, multiplicity=multiplicity,charge= charge\n",
        ")\n",
        "no_of_qubits = hamiltonian_0.n_qubits\n",
        "hamiltonian_ferm_op = get_fermion_operator(hamiltonian_0)\n",
        "hamiltonian = jordan_wigner(hamiltonian_ferm_op)\n",
        "hamiltonian.compress()\n",
        "ordered_hamiltonian = sorted(list(hamiltonian.terms.keys()))"
      ]
    },
    {
      "cell_type": "markdown",
      "metadata": {
        "id": "nVR8Ph2FqRQP"
      },
      "source": [
        "## Numerical Eignevalue"
      ]
    },
    {
      "cell_type": "code",
      "execution_count": 4,
      "metadata": {
        "colab": {
          "base_uri": "https://localhost:8080/"
        },
        "id": "_RDft6DK0hAP",
        "outputId": "97e6e3d7-a047-42cc-9851-5e82722a14d6"
      },
      "outputs": [
        {
          "name": "stdout",
          "output_type": "stream",
          "text": [
            "Smallest Eigenvalue: -5.433020501153877\n"
          ]
        }
      ],
      "source": [
        "hamiltonian_sparse = get_sparse_operator(hamiltonian)\n",
        "eigenvalues, _ = lg.eigsh(hamiltonian_sparse, k=no_of_qubits-1, which='SA')  # Largest eigenvalue\n",
        "smallest_eigenvalue = eigenvalues[0]\n",
        "print(f\"Smallest Eigenvalue: {smallest_eigenvalue}\")"
      ]
    },
    {
      "cell_type": "markdown",
      "metadata": {
        "id": "rCxIU-dcr-D3"
      },
      "source": [
        "## Convert fcidump to pauli operator hamiltonian"
      ]
    },
    {
      "cell_type": "code",
      "execution_count": 5,
      "metadata": {
        "id": "f-6rSl--tEPe"
      },
      "outputs": [
        {
          "name": "stdout",
          "output_type": "stream",
          "text": [
            "-2.6892210114617368\n"
          ]
        }
      ],
      "source": [
        "scale = 0\n",
        "id_coef = 0\n",
        "for term in ordered_hamiltonian:\n",
        "    if(len(term)>0):\n",
        "        scale += abs(hamiltonian.terms[term])\n",
        "    else:\n",
        "        id_coef += hamiltonian.terms[term]\n",
        "# scale_ham = np.pi/scale\n",
        "# scaled_ham = -scale_ham * pauli_op\n",
        "# pauli_hamiltonian = scaled_ham.data\n",
        "# print(scale_ham)\n",
        "print(id_coef)\n",
        "\n",
        "\n",
        "\n",
        "coefficients = []\n",
        "indexs = []\n",
        "pauli_nums = []\n",
        "pauli_strings = []\n",
        "for term in ordered_hamiltonian:\n",
        "    if(len(term) > 0):\n",
        "        if(type(hamiltonian.terms[term]) == np.complex_ or type(hamiltonian.terms[term]) == complex):\n",
        "            if(hamiltonian.terms[term].imag == 0):\n",
        "              coefficients.append(hamiltonian.terms[term].real)\n",
        "            elif(hamiltonian.terms[term].real == 0):\n",
        "              coefficients.append(hamiltonian.terms[term].imag)\n",
        "            else:\n",
        "              coefficients.append(np.arctan2(hamiltonian.terms[term].imag,hamiltonian.terms[term].real))\n",
        "        else:\n",
        "            coefficients.append(float(hamiltonian.terms[term]))\n",
        "        idxslist = []\n",
        "        paulistrlist = []\n",
        "        paulinumlist = []\n",
        "        for j in term:\n",
        "           idxslist.append(j[0])\n",
        "           paulistrlist.append(j[1])\n",
        "           if(j[1]==\"Z\"):\n",
        "               paulinumlist.append(3)\n",
        "           elif(j[1] == \"X\"):\n",
        "               paulinumlist.append(1)\n",
        "           elif(j[1] == \"Y\"):\n",
        "               paulinumlist.append(2)\n",
        "        indexs.append(idxslist)\n",
        "        pauli_nums.append(paulinumlist)\n",
        "        pauli_strings.append(paulistrlist)"
      ]
    },
    {
      "cell_type": "code",
      "execution_count": 6,
      "metadata": {
        "id": "IrbuC9MIt8zB"
      },
      "outputs": [],
      "source": [
        "# print(coefficients)\n",
        "# print(indexs)\n",
        "# print(pauli_nums)\n",
        "# print(pauli_strings)"
      ]
    },
    {
      "cell_type": "markdown",
      "metadata": {
        "id": "je0EtM8cru0W"
      },
      "source": [
        "## Qsharp Code"
      ]
    },
    {
      "cell_type": "code",
      "execution_count": 7,
      "metadata": {
        "id": "92We5bWaAUFU"
      },
      "outputs": [],
      "source": [
        "import qsharp\n"
      ]
    },
    {
      "cell_type": "code",
      "execution_count": null,
      "metadata": {
        "id": "aUmk9n8MpaaI",
        "vscode": {
          "languageId": "qsharp"
        }
      },
      "outputs": [],
      "source": [
        "%%qsharp\n",
        "\n",
        "// namespace Microsoft.Quantum.Applications.trotter {\n",
        "    open Microsoft.Quantum.Measurement;\n",
        "    open Microsoft.Quantum.Convert;\n",
        "    open Microsoft.Quantum.Math;\n",
        "    open Microsoft.Quantum.Arrays;\n",
        "    open Microsoft.Quantum.Diagnostics;\n",
        "    open Microsoft.Quantum.Intrinsic;\n",
        "    open Microsoft.Quantum.Canon;\n",
        "    open Microsoft.Quantum.Random;\n",
        "\n",
        "// Custom Data structure for hamiltonian terms\n",
        "    newtype hamiltonian = (\n",
        "        coef : Double[],\n",
        "        paulistr : Int[][],\n",
        "        indices : Int[][]\n",
        "    );\n",
        "\n",
        "// Intialized fucntion\n",
        "   // ttstep = No of trotter steps\n",
        "   // torder = First order trotterization\n",
        "   // time = Evolution time\n",
        "\n",
        "    operation trotterham(orbs:Int,trottersteps:Int,ancilia:Int, particles:Int,ev_time:Double, ham:hamiltonian ) : Result[] {\n",
        "        use Ancilia_Register = Qubit[ancilia]; // Not used, so set to 0, useful for further implementation\n",
        "        use Sim_Register = Qubit[orbs]; // Simulation register\n",
        "        ApplyToEach(H,Ancilia_Register);\n",
        "\n",
        "        for i in 1..MinI(particles,orbs){\n",
        "           X(Sim_Register[i-1])\n",
        "        }\n",
        "\n",
        "        // DumpRegister(Sim_Register);\n",
        "        trotterstep(trottersteps,ev_time,1,ham::paulistr,ham::indices,ham::coef,Sim_Register,Ancilia_Register,ancilia); // call trotterstep function\n",
        "        Adjoint ApplyQFT(Ancilia_Register);\n",
        "        mutable resultArray = [Zero, size = ancilia];\n",
        "        let result = MeasureAllZ(Ancilia_Register);\n",
        "        for i in IndexRange(Ancilia_Register) {\n",
        "            set resultArray w/= i <- M(Ancilia_Register[i]);\n",
        "        }\n",
        "        // DumpRegister(Sim_Register);\n",
        "        ResetAll(Sim_Register);\n",
        "        ResetAll(Ancilia_Register);\n",
        "        return resultArray;\n",
        "        // return result;\n",
        "    }\n",
        "\n",
        "// Trotter step fucntion to call circuit builder function\n",
        "    operation trotterstep(tstep:Int,time:Double,torder:Int,paulistrings:Int[][],\n",
        "    indexs:Int[][],coefficient:Double[],Sregister:Qubit[],Aregister:Qubit[],ancs:Int):Unit{\n",
        "        for anc in 1..ancs {\n",
        "            let p = ancs - (anc -1);\n",
        "            for i in 1..tstep {\n",
        "                for each_anc in 1..2^(anc-1) {\n",
        "                    for j in IndexRange(coefficient) {\n",
        "                        // create a gate parameter using (coefficient * (time evolution/trotter step))\n",
        "                        let angle =  coefficient[j]*(time/IntAsDouble(tstep));\n",
        "                        ham_to_circuit(j,paulistrings,indexs,angle,Sregister,Aregister,p) // Circuit builder\n",
        "                    }\n",
        "                }\n",
        "            }\n",
        "        }\n",
        "    }\n",
        "\n",
        "// Circuit builder\n",
        "// circuit design is done using https://arxiv.org/pdf/1001.3855\n",
        "\n",
        "//--------------------------convert  Hmailtonian into circuit-------------------------------------\n",
        "\n",
        "// step 1: Take the each exponenetial operaotr(Pauli Product terms) in hamiltonian\n",
        "//         consider * as Tensor product here and H = Hadmard\n",
        "// step 2: connvert it into a circuit using - Pauli-Z = Rz,\n",
        "//                                            Pauli-X = H * Rz * H,\n",
        "//                                            Pauli-Y = Rx(-pi/2) * Rz * Rx(pi/2)\n",
        "\n",
        "// Ex 1: coeff [Z_1 * Z_2] => Cnot(1,2) - Rz_2(coeff) - Cnot (1,2)\n",
        "// Ex 2: coeff [X_1 * Y_2 * Z_3] =>  H_1 * Rx(-pi/2)_2 * Cnot(1,3) * Cnot(2,3) * Rz_3(coeff) * Cnot(2,3) * Cnot(1,3) * Rx(pi/2)_2 * H_1\n",
        "\n",
        "\n",
        "    operation ham_to_circuit(idx:Int,paulistrings:Int[][],indexs:Int[][],coefficient:Double,\n",
        "    Sregister:Qubit[],Aregister:Qubit[],ancilia: Int): Unit{\n",
        "        let n = Length(paulistrings[idx]);\n",
        "        // Apply H or Rx(-pi/2) to required indexs\n",
        "        for i in IndexRange(paulistrings[idx]){\n",
        "            let Pval = paulistrings[idx][i];\n",
        "            let ind = indexs[idx][i];\n",
        "            if (Pval == 1) {\n",
        "                H(Sregister[ind]);\n",
        "            }\n",
        "            elif(Pval == 2) {\n",
        "                Rx(-PI()/2.0,Sregister[ind]);\n",
        "            }\n",
        "        };\n",
        "\n",
        "        // Apply first Cnot set\n",
        "        for i in 0..n-2{\n",
        "            CNOT(Sregister[indexs[idx][i]],Sregister[indexs[idx][n-1]]);\n",
        "        };\n",
        "\n",
        "        // Apply Rz gate to final qubit\n",
        "        // Rz(2.0 * coefficient,Sregister[indexs[idx][n-1]]);\n",
        "        Controlled Rz([Aregister[ancilia-1]], (2.0 * coefficient, Sregister[indexs[idx][n-1]]));\n",
        "\n",
        "        // Apply Second Cnot set\n",
        "        for i in 0..n-2{\n",
        "            let index = n-2-i;\n",
        "            CNOT(Sregister[indexs[idx][index]],Sregister[indexs[idx][n-1]]);\n",
        "        };\n",
        "\n",
        "        // Apply complex conjugate of ( H or Rx(-pi/2) ) to required indexs again\n",
        "        for i in IndexRange(paulistrings[idx]){\n",
        "            let Pval = paulistrings[idx][i];\n",
        "            let ind = indexs[idx][i];\n",
        "            if(Pval == 1){\n",
        "                H(Sregister[ind]);\n",
        "            } elif(Pval == 2){\n",
        "                Rx(PI()/2.0,Sregister[ind]);\n",
        "            }\n",
        "\n",
        "        };\n",
        "    }\n",
        "\n",
        "// -------------- Sample Hamiltonian -------------\n",
        "    // @EntryPoint()\n",
        "    // // operation start(): Result[] {\n",
        "    // //     let h = hamiltonian([0.3593,0.0896,-0.4826,0.0896],\n",
        "    // //     [[0],[2,2],[0],[1,1]],\n",
        "    // //     [[0],[0,1],[1],[0,1]]);\n",
        "    // //     return trotterham(2,1,5,1,0.640,h);\n",
        "    // // }\n",
        "    // operation start(): Result[] {\n",
        "    //     let h = hamiltonian([-0.0492, 0.0492, 0.0492, -0.0492,0.1372, 0.1566, 0.1062, 0.1554, 0.1372, 0.1554, 0.1062, -0.1304, 0.1633, -0.1304],\n",
        "    //     [[1,1,2,2],[1,2,2,1],[2,1,1,2],[2,2,1,1],[0],[0,0],[0,0],[0,0],[0],[0,0],[0,0],[0],[0,0],[0]],\n",
        "    //     [[0,1,2,3],[0,1,2,3],[0,1,2,3],[0,1,2,3],[0],[0,1],[0,2],[0,3],[1],[1,2],[1,3],[2],[2,3],[3]]);\n",
        "    //     return trotterham(4,1,2,2,0.640,h);\n",
        "    // }\n",
        "// }"
      ]
    },
    {
      "cell_type": "code",
      "execution_count": 9,
      "metadata": {
        "id": "C_cFx_nTwk0p"
      },
      "outputs": [],
      "source": [
        "def ndarray2d_to_string(arr):\n",
        "    str_arr = []\n",
        "    for elem in arr:\n",
        "        str_arr.append(np.array2string(np.array(elem), separator=\",\"))\n",
        "    return f\"[{','.join(str_arr)}]\"\n",
        "\n",
        "def convert_to_int(s):\n",
        "    # Check if the last character is 'k'\n",
        "    if s[-1].lower() == 'k':\n",
        "        # Remove the 'k' and convert the remaining part to a float\n",
        "        number = float(s[:-1])\n",
        "        # Multiply by 1000 to convert from k to an actual number\n",
        "        return int(number * 1000)\n",
        "    elif s[-1].lower() == 'm':\n",
        "       number = float(s[:-1])\n",
        "       return int(number * 1000000)\n",
        "    else:\n",
        "        return int(s)"
      ]
    },
    {
      "cell_type": "markdown",
      "metadata": {
        "id": "6O61liJp0Hvq"
      },
      "source": [
        "## Ground state estimation using Qsharp"
      ]
    },
    {
      "cell_type": "markdown",
      "metadata": {
        "id": "IL9cG6_c0qPt"
      },
      "source": [
        "This may take longer times for larger trotter steps and Higher number of ancilia qubits"
      ]
    },
    {
      "cell_type": "code",
      "execution_count": 10,
      "metadata": {
        "colab": {
          "base_uri": "https://localhost:8080/"
        },
        "id": "1RhjHrrN0Ot_",
        "outputId": "13f4d6c4-7511-4dff-8c58-32a80835101b"
      },
      "outputs": [
        {
          "name": "stdout",
          "output_type": "stream",
          "text": [
            "Ancilia: 1\n",
            "\n",
            " {(0,): 36, (1,): 64} \n",
            "\n",
            "EigenEnergy : -7.597959532695789\n",
            "---------------------------------------------\n",
            "Ancilia: 2\n",
            "\n",
            " {(1, 0): 96, (0, 1): 2, (0, 0): 2} \n",
            "\n",
            "EigenEnergy : -5.143590272078763\n",
            "---------------------------------------------\n",
            "Ancilia: 3\n",
            "\n",
            " {(0, 1, 0): 81, (1, 0, 0): 5, (1, 1, 0): 6, (0, 0, 1): 3, (1, 0, 1): 1, (0, 1, 1): 2, (1, 1, 1): 1, (0, 0, 0): 1} \n",
            "\n",
            "EigenEnergy : -5.143590272078763\n",
            "---------------------------------------------\n",
            "Ancilia: 4\n",
            "\n",
            " {(0, 0, 1, 0): 54, (1, 0, 1, 0): 33, (0, 1, 0, 0): 1, (1, 1, 1, 1): 1, (1, 1, 1, 0): 2, (0, 1, 1, 0): 2, (0, 1, 1, 1): 2, (1, 1, 0, 0): 3, (1, 0, 0, 0): 1, (0, 0, 1, 1): 1} \n",
            "\n",
            "EigenEnergy : -5.143590272078763\n",
            "---------------------------------------------\n",
            "Ancilia: 5\n",
            "\n",
            " {(1, 0, 0, 1, 0): 99, (0, 0, 1, 0, 0): 1} \n",
            "\n",
            "EigenEnergy : -5.450386429655891\n",
            "---------------------------------------------\n",
            "Ancilia: 6\n",
            "\n",
            " {(0, 1, 0, 0, 1, 0): 95, (1, 1, 0, 0, 1, 0): 2, (1, 1, 1, 1, 0, 0): 1, (0, 0, 0, 1, 1, 0): 1, (1, 0, 0, 0, 1, 0): 1} \n",
            "\n",
            "EigenEnergy : -5.450386429655891\n",
            "---------------------------------------------\n",
            "Ancilia: 7\n",
            "\n",
            " {(0, 0, 1, 0, 0, 1, 0): 88, (1, 0, 1, 0, 0, 1, 0): 1, (1, 1, 0, 0, 0, 1, 0): 6, (0, 0, 1, 0, 1, 0, 1): 1, (0, 1, 0, 0, 0, 1, 0): 2, (1, 1, 1, 0, 0, 1, 0): 1, (0, 1, 1, 1, 1, 0, 0): 1} \n",
            "\n",
            "EigenEnergy : -5.450386429655891\n",
            "---------------------------------------------\n",
            "Ancilia: 8\n",
            "\n",
            " {(0, 0, 0, 1, 0, 0, 1, 0): 50, (1, 1, 1, 0, 0, 0, 1, 0): 36, (0, 1, 1, 0, 0, 0, 1, 0): 4, (1, 0, 0, 0, 0, 0, 1, 0): 2, (1, 1, 0, 1, 0, 0, 1, 0): 1, (1, 0, 0, 1, 0, 0, 1, 0): 2, (0, 1, 0, 1, 0, 0, 1, 0): 1, (1, 0, 1, 0, 0, 0, 1, 0): 1, (0, 0, 1, 1, 0, 0, 1, 0): 2, (0, 0, 1, 0, 0, 0, 1, 0): 1} \n",
            "\n",
            "EigenEnergy : -5.450386429655891\n",
            "---------------------------------------------\n"
          ]
        }
      ],
      "source": [
        "# Convert all hamiltonian terms into strings\n",
        "coefficients_values = np.array2string(np.array(coefficients),separator=',',threshold=10000000)\n",
        "pauli_terms = ndarray2d_to_string(pauli_nums)\n",
        "indexs_values = ndarray2d_to_string(indexs)\n",
        "\n",
        "ancilia = 8 #round(-math.log2(epsilon_p / delta_ER))\n",
        "ev_time = 0.640\n",
        "trotterstep = 1 #int(qubits**(3/2))   # No of trotter steps\n",
        "resource_data = []\n",
        "error_data = []\n",
        "eigen_list = []\n",
        "\n",
        "for an in range(ancilia):\n",
        "    qsharp_string = (f\"trotterham(\"\n",
        "                     f\"{no_of_qubits},{trotterstep},{an+1},{no_of_el},{ev_time},\"\n",
        "                     \"hamiltonian(\"f\"{coefficients_values},{pauli_terms},{indexs_values}))\")\n",
        "\n",
        "    # Get resource estimates\n",
        "    res = qsharp.estimate(qsharp_string,\n",
        "                          params={\"errorBudget\": 0.01,\n",
        "                                  \"qubitParams\": {\"name\": \"qubit_maj_ns_e6\"},\n",
        "                                  \"qecScheme\": {\"name\": \"floquet_code\"}})\n",
        "\n",
        "    # Run the Q# string and process results\n",
        "    newlist = qsharp.run(qsharp_string, 100)\n",
        "    dicts = {}\n",
        "    for sub_list in newlist:\n",
        "        new_sub = []\n",
        "        for li in sub_list:\n",
        "            if str(li) == \"One\":\n",
        "                new_sub.append(1)\n",
        "            else:\n",
        "                new_sub.append(0)\n",
        "        sub_tuple = tuple(new_sub)\n",
        "        if sub_tuple in dicts:\n",
        "            dicts[sub_tuple] += 1\n",
        "        else:\n",
        "            dicts[sub_tuple] = 1\n",
        "    print(\"Ancilia:\",an+1)\n",
        "    print('\\n', dicts, '\\n')\n",
        "    max_key = max(dicts, key=dicts.get)\n",
        "    max_key = max_key[::-1]\n",
        "    key = ''.join(map(str, max_key))\n",
        "    phase = int(key, 2) / (2 ** (an+1))\n",
        "    # print(\"original phase :\",phase,'\\n')\n",
        "    phase = 2 * np.pi * phase\n",
        "    # print(\"Phase :\", phase, '\\n')\n",
        "    eigen_value = ((-phase) / ev_time ) + id_coef\n",
        "    eigen_list.append(eigen_value)\n",
        "    print(\"EigenEnergy :\",eigen_value,)\n",
        "    print(\"---------------------------------------------\")\n"
      ]
    },
    {
      "cell_type": "code",
      "execution_count": 11,
      "metadata": {
        "colab": {
          "base_uri": "https://localhost:8080/",
          "height": 564
        },
        "id": "KckdxF70p973",
        "outputId": "da10ce72-e494-44f8-991c-d4d33e8a2bf6"
      },
      "outputs": [
        {
          "data": {
            "image/png": "[encoded data removed]",
            "text/plain": [
              "<Figure size 1000x600 with 1 Axes>"
            ]
          },
          "metadata": {},
          "output_type": "display_data"
        }
      ],
      "source": [
        "ancillas = np.arange(1, ancilia+1)\n",
        "\n",
        "# Plotting the energy vs ancillas\n",
        "plt.figure(figsize=(10, 6))\n",
        "plt.plot(ancillas, eigen_list, marker='o', linestyle='-', color='b', label='Energies')\n",
        "plt.axhline(y=smallest_eigenvalue, color='r', linestyle='--', label=f'Smallest Eigenvalue = {smallest_eigenvalue}')\n",
        "\n",
        "# Labels and title\n",
        "plt.xlabel('Ancillas')\n",
        "plt.ylabel('Energy')\n",
        "plt.title('Energy vs Ancillas')\n",
        "plt.legend()\n",
        "\n",
        "plt.show()"
      ]
    },
    {
      "cell_type": "code",
      "execution_count": 12,
      "metadata": {
        "id": "fr4Fk07u1Qs6"
      },
      "outputs": [],
      "source": [
        "# print(qsharp.circuit(qsharp_string))"
      ]
    },
    {
      "cell_type": "markdown",
      "metadata": {
        "id": "sOfg_ngB0EkR"
      },
      "source": [
        "## Resource Estimates"
      ]
    },
    {
      "cell_type": "code",
      "execution_count": 13,
      "metadata": {
        "colab": {
          "base_uri": "https://localhost:8080/"
        },
        "id": "qeL7hzWzz1Fb",
        "outputId": "e781e3a5-0adc-44d7-ddc1-5c3c05728b38"
      },
      "outputs": [
        {
          "name": "stdout",
          "output_type": "stream",
          "text": [
            "{'numQubits': 13, 'tCount': 21, 'rotationCount': 7203, 'rotationDepth': 6652, 'cczCount': 0, 'ccixCount': 0, 'measurementCount': 9}\n"
          ]
        }
      ],
      "source": [
        "estimates = qsharp.estimate(qsharp_string,params={\"errorBudget\": 0.01,\n",
        "                                  \"qubitParams\": {\"name\": \"qubit_maj_ns_e6\"},\n",
        "                                  \"qecScheme\": {\"name\": \"floquet_code\"}})\n",
        "print(estimates.logical_counts)"
      ]
    },
    {
      "cell_type": "code",
      "execution_count": null,
      "metadata": {
        "id": "GS2ibFUewsCX"
      },
      "outputs": [],
      "source": []
    }
  ],
  "metadata": {
    "colab": {
      "provenance": []
    },
    "kernelspec": {
      "display_name": "Python 3",
      "name": "python3"
    },
    "language_info": {
      "codemirror_mode": {
        "name": "ipython",
        "version": 3
      },
      "file_extension": ".py",
      "mimetype": "text/x-python",
      "name": "python",
      "nbconvert_exporter": "python",
      "pygments_lexer": "ipython3",
      "version": "3.13.2"
    }
  },
  "nbformat": 4,
  "nbformat_minor": 0
}
